{
 "cells": [
  {
   "cell_type": "markdown",
   "metadata": {},
   "source": [
    "## loading eye data"
   ]
  },
  {
   "cell_type": "code",
   "execution_count": 4,
   "metadata": {},
   "outputs": [],
   "source": [
    "import os\n",
    "import numpy as np\n",
    "import pandas as pd\n",
    "from sklearn import preprocessing \n",
    "import neptune"
   ]
  },
  {
   "cell_type": "code",
   "execution_count": 5,
   "metadata": {},
   "outputs": [],
   "source": [
    "data_dir_ = 'data/eye_feature_smooth/'"
   ]
  },
  {
   "cell_type": "code",
   "execution_count": 8,
   "metadata": {},
   "outputs": [
    {
     "name": "stderr",
     "output_type": "stream",
     "text": [
      "WARNING: It is not secure to place API token in your source code. You should treat it as a password to your account. It is strongly recommended to use NEPTUNE_API_TOKEN environment variable instead. Remember not to upload source file with API token to any public repository.\n"
     ]
    },
    {
     "name": "stdout",
     "output_type": "stream",
     "text": [
      "https://ui.neptune.ai/Porsche/workshop/e/WOR-31\n"
     ]
    }
   ],
   "source": [
    "neptune.init(api_token='eyJhcGlfYWRkcmVzcyI6Imh0dHBzOi8vdWkubmVwdHVuZS5haSIsImFwaV91cmwiOiJodHRwczovL3VpLm5lcHR1bmUuYWkiLCJhcGlfa2V5IjoiZGNhOGU5MGItZjBhNi00M2IyLWJkMmYtYmFjZDAxMDUyMTNlIn0=',\n",
    "            project_qualified_name='Porsche/workshop')\n",
    "\n",
    "nep_ex =  neptune.create_experiment(upload_source_files=['*.py', '*.ipynb', '*.yaml'])"
   ]
  },
  {
   "cell_type": "code",
   "execution_count": 9,
   "metadata": {},
   "outputs": [
    {
     "name": "stdout",
     "output_type": "stream",
     "text": [
      "(1080, 31, 64)\n"
     ]
    }
   ],
   "source": [
    "X = np.load(data_dir_ + 'data_X.npy')\n",
    "Y = np.load(data_dir_ + 'data_Y.npy')\n",
    "P = np.load(data_dir_ + 'data_P.npy')\n",
    "colnames = np.load(data_dir_ + 'data_colnames.npy')\n",
    "S = np.load(data_dir_ + 'data_S.npy')\n",
    "print(X.shape)"
   ]
  },
  {
   "cell_type": "code",
   "execution_count": 10,
   "metadata": {},
   "outputs": [],
   "source": [
    "flatten_colnames = []\n",
    "for colname in colnames:\n",
    "    #create array with 64 dimensions\n",
    "    col_array = np.repeat(str(colname),  64)\n",
    "    for i in range(col_array.shape[0]):\n",
    "        col_array[i] = col_array[i] + '_' + str(i)\n",
    "        #print(col_array[i] + '_' + str(i))\n",
    "        flatten_colnames.append(col_array[i] + '_' + str(i))\n",
    "        #print(col_array[i])\n",
    "    #flatten_colnames.append(col_array)\n",
    "    \n",
    "flatten_colnames = np.asarray(flatten_colnames, dtype = 'str')"
   ]
  },
  {
   "cell_type": "code",
   "execution_count": 11,
   "metadata": {},
   "outputs": [
    {
     "name": "stdout",
     "output_type": "stream",
     "text": [
      "(1080, 31)\n"
     ]
    }
   ],
   "source": [
    "X_flatten = X.reshape((X.shape[0], -1)) #flatten the dimensions of the input (2d -> 1d)\n",
    "X_flatten = np.nan_to_num(X_flatten, copy=True) #if NAN exist -> replace by 0.0\n",
    "X_flatten_mean  = np.nanmean(X, axis = 2) #ignore NAN in mean\n",
    "\n",
    "enc_label = preprocessing.LabelBinarizer()\n",
    "enc_part = preprocessing.LabelBinarizer()\n",
    "#Y = enc_label.fit_transform(Y)\n",
    "#P = enc_part.fit_transform(P)\n",
    "print(X_flatten_mean.shape)"
   ]
  },
  {
   "cell_type": "code",
   "execution_count": null,
   "metadata": {},
   "outputs": [],
   "source": []
  },
  {
   "cell_type": "markdown",
   "metadata": {},
   "source": [
    "## Dataset Overview"
   ]
  },
  {
   "cell_type": "code",
   "execution_count": 12,
   "metadata": {},
   "outputs": [
    {
     "data": {
      "text/html": [
       "<div>\n",
       "<style scoped>\n",
       "    .dataframe tbody tr th:only-of-type {\n",
       "        vertical-align: middle;\n",
       "    }\n",
       "\n",
       "    .dataframe tbody tr th {\n",
       "        vertical-align: top;\n",
       "    }\n",
       "\n",
       "    .dataframe thead th {\n",
       "        text-align: right;\n",
       "    }\n",
       "</style>\n",
       "<table border=\"1\" class=\"dataframe\">\n",
       "  <thead>\n",
       "    <tr style=\"text-align: right;\">\n",
       "      <th></th>\n",
       "      <th>pupil_diam_x_mean_0</th>\n",
       "      <th>pupil_diam_x_mean_1</th>\n",
       "      <th>pupil_diam_x_mean_2</th>\n",
       "      <th>pupil_diam_x_mean_3</th>\n",
       "      <th>pupil_diam_x_mean_4</th>\n",
       "      <th>pupil_diam_x_mean_5</th>\n",
       "      <th>pupil_diam_x_mean_6</th>\n",
       "      <th>pupil_diam_x_mean_7</th>\n",
       "      <th>pupil_diam_x_mean_8</th>\n",
       "      <th>pupil_diam_x_mean_9</th>\n",
       "      <th>...</th>\n",
       "      <th>saccade latency average_54</th>\n",
       "      <th>saccade latency average_55</th>\n",
       "      <th>saccade latency average_56</th>\n",
       "      <th>saccade latency average_57</th>\n",
       "      <th>saccade latency average_58</th>\n",
       "      <th>saccade latency average_59</th>\n",
       "      <th>saccade latency average_60</th>\n",
       "      <th>saccade latency average_61</th>\n",
       "      <th>saccade latency average_62</th>\n",
       "      <th>saccade latency average_63</th>\n",
       "    </tr>\n",
       "  </thead>\n",
       "  <tbody>\n",
       "    <tr>\n",
       "      <th>0</th>\n",
       "      <td>123.795894</td>\n",
       "      <td>123.791648</td>\n",
       "      <td>123.781341</td>\n",
       "      <td>123.759652</td>\n",
       "      <td>123.729548</td>\n",
       "      <td>123.691124</td>\n",
       "      <td>123.641547</td>\n",
       "      <td>123.593147</td>\n",
       "      <td>123.542052</td>\n",
       "      <td>123.496627</td>\n",
       "      <td>...</td>\n",
       "      <td>0.0</td>\n",
       "      <td>0.0</td>\n",
       "      <td>0.0</td>\n",
       "      <td>0.0</td>\n",
       "      <td>0.0</td>\n",
       "      <td>0.0</td>\n",
       "      <td>0.0</td>\n",
       "      <td>0.0</td>\n",
       "      <td>0.0</td>\n",
       "      <td>0.0</td>\n",
       "    </tr>\n",
       "    <tr>\n",
       "      <th>1</th>\n",
       "      <td>131.186279</td>\n",
       "      <td>131.176575</td>\n",
       "      <td>131.169002</td>\n",
       "      <td>131.166994</td>\n",
       "      <td>131.164997</td>\n",
       "      <td>131.167228</td>\n",
       "      <td>131.169112</td>\n",
       "      <td>131.173999</td>\n",
       "      <td>131.186837</td>\n",
       "      <td>131.217438</td>\n",
       "      <td>...</td>\n",
       "      <td>0.0</td>\n",
       "      <td>0.0</td>\n",
       "      <td>0.0</td>\n",
       "      <td>0.0</td>\n",
       "      <td>0.0</td>\n",
       "      <td>0.0</td>\n",
       "      <td>0.0</td>\n",
       "      <td>0.0</td>\n",
       "      <td>0.0</td>\n",
       "      <td>0.0</td>\n",
       "    </tr>\n",
       "    <tr>\n",
       "      <th>2</th>\n",
       "      <td>137.617985</td>\n",
       "      <td>137.612553</td>\n",
       "      <td>137.617400</td>\n",
       "      <td>137.627022</td>\n",
       "      <td>137.649115</td>\n",
       "      <td>137.689314</td>\n",
       "      <td>137.745398</td>\n",
       "      <td>137.810562</td>\n",
       "      <td>137.879117</td>\n",
       "      <td>137.947199</td>\n",
       "      <td>...</td>\n",
       "      <td>0.0</td>\n",
       "      <td>0.0</td>\n",
       "      <td>0.0</td>\n",
       "      <td>0.0</td>\n",
       "      <td>0.0</td>\n",
       "      <td>0.0</td>\n",
       "      <td>0.0</td>\n",
       "      <td>0.0</td>\n",
       "      <td>0.0</td>\n",
       "      <td>0.0</td>\n",
       "    </tr>\n",
       "    <tr>\n",
       "      <th>3</th>\n",
       "      <td>89.051657</td>\n",
       "      <td>89.051507</td>\n",
       "      <td>89.074794</td>\n",
       "      <td>89.105582</td>\n",
       "      <td>89.135208</td>\n",
       "      <td>89.158187</td>\n",
       "      <td>89.177362</td>\n",
       "      <td>89.178100</td>\n",
       "      <td>89.154389</td>\n",
       "      <td>89.108758</td>\n",
       "      <td>...</td>\n",
       "      <td>0.0</td>\n",
       "      <td>0.0</td>\n",
       "      <td>0.0</td>\n",
       "      <td>0.0</td>\n",
       "      <td>0.0</td>\n",
       "      <td>0.0</td>\n",
       "      <td>0.0</td>\n",
       "      <td>0.0</td>\n",
       "      <td>0.0</td>\n",
       "      <td>0.0</td>\n",
       "    </tr>\n",
       "    <tr>\n",
       "      <th>4</th>\n",
       "      <td>146.221369</td>\n",
       "      <td>146.248473</td>\n",
       "      <td>146.292151</td>\n",
       "      <td>146.344926</td>\n",
       "      <td>146.402855</td>\n",
       "      <td>146.453996</td>\n",
       "      <td>146.494440</td>\n",
       "      <td>146.530620</td>\n",
       "      <td>146.564069</td>\n",
       "      <td>146.585374</td>\n",
       "      <td>...</td>\n",
       "      <td>0.0</td>\n",
       "      <td>0.0</td>\n",
       "      <td>0.0</td>\n",
       "      <td>0.0</td>\n",
       "      <td>0.0</td>\n",
       "      <td>0.0</td>\n",
       "      <td>0.0</td>\n",
       "      <td>0.0</td>\n",
       "      <td>0.0</td>\n",
       "      <td>0.0</td>\n",
       "    </tr>\n",
       "  </tbody>\n",
       "</table>\n",
       "<p>5 rows × 1984 columns</p>\n",
       "</div>"
      ],
      "text/plain": [
       "   pupil_diam_x_mean_0  pupil_diam_x_mean_1  pupil_diam_x_mean_2  \\\n",
       "0           123.795894           123.791648           123.781341   \n",
       "1           131.186279           131.176575           131.169002   \n",
       "2           137.617985           137.612553           137.617400   \n",
       "3            89.051657            89.051507            89.074794   \n",
       "4           146.221369           146.248473           146.292151   \n",
       "\n",
       "   pupil_diam_x_mean_3  pupil_diam_x_mean_4  pupil_diam_x_mean_5  \\\n",
       "0           123.759652           123.729548           123.691124   \n",
       "1           131.166994           131.164997           131.167228   \n",
       "2           137.627022           137.649115           137.689314   \n",
       "3            89.105582            89.135208            89.158187   \n",
       "4           146.344926           146.402855           146.453996   \n",
       "\n",
       "   pupil_diam_x_mean_6  pupil_diam_x_mean_7  pupil_diam_x_mean_8  \\\n",
       "0           123.641547           123.593147           123.542052   \n",
       "1           131.169112           131.173999           131.186837   \n",
       "2           137.745398           137.810562           137.879117   \n",
       "3            89.177362            89.178100            89.154389   \n",
       "4           146.494440           146.530620           146.564069   \n",
       "\n",
       "   pupil_diam_x_mean_9  ...  saccade latency average_54  \\\n",
       "0           123.496627  ...                         0.0   \n",
       "1           131.217438  ...                         0.0   \n",
       "2           137.947199  ...                         0.0   \n",
       "3            89.108758  ...                         0.0   \n",
       "4           146.585374  ...                         0.0   \n",
       "\n",
       "   saccade latency average_55  saccade latency average_56  \\\n",
       "0                         0.0                         0.0   \n",
       "1                         0.0                         0.0   \n",
       "2                         0.0                         0.0   \n",
       "3                         0.0                         0.0   \n",
       "4                         0.0                         0.0   \n",
       "\n",
       "   saccade latency average_57  saccade latency average_58  \\\n",
       "0                         0.0                         0.0   \n",
       "1                         0.0                         0.0   \n",
       "2                         0.0                         0.0   \n",
       "3                         0.0                         0.0   \n",
       "4                         0.0                         0.0   \n",
       "\n",
       "   saccade latency average_59  saccade latency average_60  \\\n",
       "0                         0.0                         0.0   \n",
       "1                         0.0                         0.0   \n",
       "2                         0.0                         0.0   \n",
       "3                         0.0                         0.0   \n",
       "4                         0.0                         0.0   \n",
       "\n",
       "   saccade latency average_61  saccade latency average_62  \\\n",
       "0                         0.0                         0.0   \n",
       "1                         0.0                         0.0   \n",
       "2                         0.0                         0.0   \n",
       "3                         0.0                         0.0   \n",
       "4                         0.0                         0.0   \n",
       "\n",
       "   saccade latency average_63  \n",
       "0                         0.0  \n",
       "1                         0.0  \n",
       "2                         0.0  \n",
       "3                         0.0  \n",
       "4                         0.0  \n",
       "\n",
       "[5 rows x 1984 columns]"
      ]
     },
     "execution_count": 12,
     "metadata": {},
     "output_type": "execute_result"
    }
   ],
   "source": [
    "df_X = pd.DataFrame(data = X_flatten, columns = flatten_colnames)\n",
    "df_X.head()"
   ]
  },
  {
   "cell_type": "code",
   "execution_count": 13,
   "metadata": {},
   "outputs": [
    {
     "data": {
      "text/html": [
       "<div>\n",
       "<style scoped>\n",
       "    .dataframe tbody tr th:only-of-type {\n",
       "        vertical-align: middle;\n",
       "    }\n",
       "\n",
       "    .dataframe tbody tr th {\n",
       "        vertical-align: top;\n",
       "    }\n",
       "\n",
       "    .dataframe thead th {\n",
       "        text-align: right;\n",
       "    }\n",
       "</style>\n",
       "<table border=\"1\" class=\"dataframe\">\n",
       "  <thead>\n",
       "    <tr style=\"text-align: right;\">\n",
       "      <th></th>\n",
       "      <th>emotion</th>\n",
       "      <th>participant</th>\n",
       "    </tr>\n",
       "  </thead>\n",
       "  <tbody>\n",
       "    <tr>\n",
       "      <th>0</th>\n",
       "      <td>1</td>\n",
       "      <td>4</td>\n",
       "    </tr>\n",
       "    <tr>\n",
       "      <th>1</th>\n",
       "      <td>2</td>\n",
       "      <td>4</td>\n",
       "    </tr>\n",
       "    <tr>\n",
       "      <th>2</th>\n",
       "      <td>3</td>\n",
       "      <td>4</td>\n",
       "    </tr>\n",
       "    <tr>\n",
       "      <th>3</th>\n",
       "      <td>0</td>\n",
       "      <td>4</td>\n",
       "    </tr>\n",
       "    <tr>\n",
       "      <th>4</th>\n",
       "      <td>2</td>\n",
       "      <td>4</td>\n",
       "    </tr>\n",
       "  </tbody>\n",
       "</table>\n",
       "</div>"
      ],
      "text/plain": [
       "   emotion  participant\n",
       "0        1            4\n",
       "1        2            4\n",
       "2        3            4\n",
       "3        0            4\n",
       "4        2            4"
      ]
     },
     "execution_count": 13,
     "metadata": {},
     "output_type": "execute_result"
    }
   ],
   "source": [
    "import matplotlib.pyplot as plt\n",
    "import pandas as pd\n",
    "import seaborn as sns\n",
    "\n",
    "#create dataframe\n",
    "df_plot = pd.DataFrame({'emotion':Y, 'participant': P})\n",
    "df_plot.head()"
   ]
  },
  {
   "cell_type": "code",
   "execution_count": 14,
   "metadata": {},
   "outputs": [
    {
     "data": {
      "image/png": "[encoded data removed]",
      "text/plain": [
       "<Figure size 432x288 with 1 Axes>"
      ]
     },
     "metadata": {
      "needs_background": "light"
     },
     "output_type": "display_data"
    }
   ],
   "source": [
    "#plot overview of label/participant distribution\n",
    "x = sns.countplot(y=\"participant\", hue=\"emotion\", data=df_plot)"
   ]
  },
  {
   "cell_type": "markdown",
   "metadata": {},
   "source": [
    "## Learn classifier"
   ]
  },
  {
   "cell_type": "markdown",
   "metadata": {},
   "source": [
    "### learn classifier on X_mean:"
   ]
  },
  {
   "cell_type": "code",
   "execution_count": 15,
   "metadata": {},
   "outputs": [],
   "source": [
    "from sklearn.model_selection import GridSearchCV\n",
    "from sklearn import svm\n",
    "from sklearn import metrics\n",
    "from sklearn.model_selection import train_test_split\n",
    "from sklearn.metrics import confusion_matrix\n",
    "from lib import print_confusion_matrix\n",
    "\n",
    "X_train, X_holdout, Y_train, Y_holdout =  train_test_split(X_flatten_mean, Y, test_size=0.1, random_state=0)"
   ]
  },
  {
   "cell_type": "code",
   "execution_count": 16,
   "metadata": {},
   "outputs": [
    {
     "name": "stderr",
     "output_type": "stream",
     "text": [
      "/Users/davidbethge/anaconda3/envs/tfnn/lib/python3.6/site-packages/sklearn/svm/_base.py:231: ConvergenceWarning: Solver terminated early (max_iter=100000).  Consider pre-processing your data with StandardScaler or MinMaxScaler.\n",
      "  % self.max_iter, ConvergenceWarning)\n",
      "/Users/davidbethge/anaconda3/envs/tfnn/lib/python3.6/site-packages/sklearn/svm/_base.py:231: ConvergenceWarning: Solver terminated early (max_iter=100000).  Consider pre-processing your data with StandardScaler or MinMaxScaler.\n",
      "  % self.max_iter, ConvergenceWarning)\n",
      "/Users/davidbethge/anaconda3/envs/tfnn/lib/python3.6/site-packages/sklearn/svm/_base.py:231: ConvergenceWarning: Solver terminated early (max_iter=100000).  Consider pre-processing your data with StandardScaler or MinMaxScaler.\n",
      "  % self.max_iter, ConvergenceWarning)\n",
      "/Users/davidbethge/anaconda3/envs/tfnn/lib/python3.6/site-packages/sklearn/svm/_base.py:231: ConvergenceWarning: Solver terminated early (max_iter=100000).  Consider pre-processing your data with StandardScaler or MinMaxScaler.\n",
      "  % self.max_iter, ConvergenceWarning)\n",
      "/Users/davidbethge/anaconda3/envs/tfnn/lib/python3.6/site-packages/sklearn/svm/_base.py:231: ConvergenceWarning: Solver terminated early (max_iter=100000).  Consider pre-processing your data with StandardScaler or MinMaxScaler.\n",
      "  % self.max_iter, ConvergenceWarning)\n",
      "/Users/davidbethge/anaconda3/envs/tfnn/lib/python3.6/site-packages/sklearn/svm/_base.py:231: ConvergenceWarning: Solver terminated early (max_iter=100000).  Consider pre-processing your data with StandardScaler or MinMaxScaler.\n",
      "  % self.max_iter, ConvergenceWarning)\n",
      "/Users/davidbethge/anaconda3/envs/tfnn/lib/python3.6/site-packages/sklearn/svm/_base.py:231: ConvergenceWarning: Solver terminated early (max_iter=100000).  Consider pre-processing your data with StandardScaler or MinMaxScaler.\n",
      "  % self.max_iter, ConvergenceWarning)\n",
      "/Users/davidbethge/anaconda3/envs/tfnn/lib/python3.6/site-packages/sklearn/svm/_base.py:231: ConvergenceWarning: Solver terminated early (max_iter=100000).  Consider pre-processing your data with StandardScaler or MinMaxScaler.\n",
      "  % self.max_iter, ConvergenceWarning)\n",
      "/Users/davidbethge/anaconda3/envs/tfnn/lib/python3.6/site-packages/sklearn/svm/_base.py:231: ConvergenceWarning: Solver terminated early (max_iter=100000).  Consider pre-processing your data with StandardScaler or MinMaxScaler.\n",
      "  % self.max_iter, ConvergenceWarning)\n",
      "/Users/davidbethge/anaconda3/envs/tfnn/lib/python3.6/site-packages/sklearn/svm/_base.py:231: ConvergenceWarning: Solver terminated early (max_iter=100000).  Consider pre-processing your data with StandardScaler or MinMaxScaler.\n",
      "  % self.max_iter, ConvergenceWarning)\n",
      "/Users/davidbethge/anaconda3/envs/tfnn/lib/python3.6/site-packages/sklearn/svm/_base.py:231: ConvergenceWarning: Solver terminated early (max_iter=100000).  Consider pre-processing your data with StandardScaler or MinMaxScaler.\n",
      "  % self.max_iter, ConvergenceWarning)\n",
      "/Users/davidbethge/anaconda3/envs/tfnn/lib/python3.6/site-packages/sklearn/svm/_base.py:231: ConvergenceWarning: Solver terminated early (max_iter=100000).  Consider pre-processing your data with StandardScaler or MinMaxScaler.\n",
      "  % self.max_iter, ConvergenceWarning)\n",
      "/Users/davidbethge/anaconda3/envs/tfnn/lib/python3.6/site-packages/sklearn/svm/_base.py:231: ConvergenceWarning: Solver terminated early (max_iter=100000).  Consider pre-processing your data with StandardScaler or MinMaxScaler.\n",
      "  % self.max_iter, ConvergenceWarning)\n",
      "/Users/davidbethge/anaconda3/envs/tfnn/lib/python3.6/site-packages/sklearn/svm/_base.py:231: ConvergenceWarning: Solver terminated early (max_iter=100000).  Consider pre-processing your data with StandardScaler or MinMaxScaler.\n",
      "  % self.max_iter, ConvergenceWarning)\n",
      "/Users/davidbethge/anaconda3/envs/tfnn/lib/python3.6/site-packages/sklearn/svm/_base.py:231: ConvergenceWarning: Solver terminated early (max_iter=100000).  Consider pre-processing your data with StandardScaler or MinMaxScaler.\n",
      "  % self.max_iter, ConvergenceWarning)\n",
      "/Users/davidbethge/anaconda3/envs/tfnn/lib/python3.6/site-packages/sklearn/svm/_base.py:231: ConvergenceWarning: Solver terminated early (max_iter=100000).  Consider pre-processing your data with StandardScaler or MinMaxScaler.\n",
      "  % self.max_iter, ConvergenceWarning)\n",
      "/Users/davidbethge/anaconda3/envs/tfnn/lib/python3.6/site-packages/sklearn/svm/_base.py:231: ConvergenceWarning: Solver terminated early (max_iter=100000).  Consider pre-processing your data with StandardScaler or MinMaxScaler.\n",
      "  % self.max_iter, ConvergenceWarning)\n",
      "/Users/davidbethge/anaconda3/envs/tfnn/lib/python3.6/site-packages/sklearn/svm/_base.py:231: ConvergenceWarning: Solver terminated early (max_iter=100000).  Consider pre-processing your data with StandardScaler or MinMaxScaler.\n",
      "  % self.max_iter, ConvergenceWarning)\n",
      "/Users/davidbethge/anaconda3/envs/tfnn/lib/python3.6/site-packages/sklearn/svm/_base.py:231: ConvergenceWarning: Solver terminated early (max_iter=100000).  Consider pre-processing your data with StandardScaler or MinMaxScaler.\n",
      "  % self.max_iter, ConvergenceWarning)\n",
      "/Users/davidbethge/anaconda3/envs/tfnn/lib/python3.6/site-packages/sklearn/svm/_base.py:231: ConvergenceWarning: Solver terminated early (max_iter=100000).  Consider pre-processing your data with StandardScaler or MinMaxScaler.\n",
      "  % self.max_iter, ConvergenceWarning)\n",
      "/Users/davidbethge/anaconda3/envs/tfnn/lib/python3.6/site-packages/sklearn/svm/_base.py:231: ConvergenceWarning: Solver terminated early (max_iter=100000).  Consider pre-processing your data with StandardScaler or MinMaxScaler.\n",
      "  % self.max_iter, ConvergenceWarning)\n",
      "/Users/davidbethge/anaconda3/envs/tfnn/lib/python3.6/site-packages/sklearn/svm/_base.py:231: ConvergenceWarning: Solver terminated early (max_iter=100000).  Consider pre-processing your data with StandardScaler or MinMaxScaler.\n",
      "  % self.max_iter, ConvergenceWarning)\n",
      "/Users/davidbethge/anaconda3/envs/tfnn/lib/python3.6/site-packages/sklearn/svm/_base.py:231: ConvergenceWarning: Solver terminated early (max_iter=100000).  Consider pre-processing your data with StandardScaler or MinMaxScaler.\n",
      "  % self.max_iter, ConvergenceWarning)\n",
      "/Users/davidbethge/anaconda3/envs/tfnn/lib/python3.6/site-packages/sklearn/svm/_base.py:231: ConvergenceWarning: Solver terminated early (max_iter=100000).  Consider pre-processing your data with StandardScaler or MinMaxScaler.\n",
      "  % self.max_iter, ConvergenceWarning)\n",
      "/Users/davidbethge/anaconda3/envs/tfnn/lib/python3.6/site-packages/sklearn/svm/_base.py:231: ConvergenceWarning: Solver terminated early (max_iter=100000).  Consider pre-processing your data with StandardScaler or MinMaxScaler.\n",
      "  % self.max_iter, ConvergenceWarning)\n",
      "/Users/davidbethge/anaconda3/envs/tfnn/lib/python3.6/site-packages/sklearn/svm/_base.py:231: ConvergenceWarning: Solver terminated early (max_iter=100000).  Consider pre-processing your data with StandardScaler or MinMaxScaler.\n",
      "  % self.max_iter, ConvergenceWarning)\n",
      "/Users/davidbethge/anaconda3/envs/tfnn/lib/python3.6/site-packages/sklearn/svm/_base.py:231: ConvergenceWarning: Solver terminated early (max_iter=100000).  Consider pre-processing your data with StandardScaler or MinMaxScaler.\n",
      "  % self.max_iter, ConvergenceWarning)\n",
      "/Users/davidbethge/anaconda3/envs/tfnn/lib/python3.6/site-packages/sklearn/svm/_base.py:231: ConvergenceWarning: Solver terminated early (max_iter=100000).  Consider pre-processing your data with StandardScaler or MinMaxScaler.\n",
      "  % self.max_iter, ConvergenceWarning)\n",
      "/Users/davidbethge/anaconda3/envs/tfnn/lib/python3.6/site-packages/sklearn/svm/_base.py:231: ConvergenceWarning: Solver terminated early (max_iter=100000).  Consider pre-processing your data with StandardScaler or MinMaxScaler.\n",
      "  % self.max_iter, ConvergenceWarning)\n",
      "/Users/davidbethge/anaconda3/envs/tfnn/lib/python3.6/site-packages/sklearn/svm/_base.py:231: ConvergenceWarning: Solver terminated early (max_iter=100000).  Consider pre-processing your data with StandardScaler or MinMaxScaler.\n",
      "  % self.max_iter, ConvergenceWarning)\n",
      "/Users/davidbethge/anaconda3/envs/tfnn/lib/python3.6/site-packages/sklearn/svm/_base.py:231: ConvergenceWarning: Solver terminated early (max_iter=100000).  Consider pre-processing your data with StandardScaler or MinMaxScaler.\n",
      "  % self.max_iter, ConvergenceWarning)\n"
     ]
    },
    {
     "name": "stderr",
     "output_type": "stream",
     "text": [
      "/Users/davidbethge/anaconda3/envs/tfnn/lib/python3.6/site-packages/sklearn/svm/_base.py:231: ConvergenceWarning: Solver terminated early (max_iter=100000).  Consider pre-processing your data with StandardScaler or MinMaxScaler.\n",
      "  % self.max_iter, ConvergenceWarning)\n",
      "/Users/davidbethge/anaconda3/envs/tfnn/lib/python3.6/site-packages/sklearn/svm/_base.py:231: ConvergenceWarning: Solver terminated early (max_iter=100000).  Consider pre-processing your data with StandardScaler or MinMaxScaler.\n",
      "  % self.max_iter, ConvergenceWarning)\n",
      "/Users/davidbethge/anaconda3/envs/tfnn/lib/python3.6/site-packages/sklearn/svm/_base.py:231: ConvergenceWarning: Solver terminated early (max_iter=100000).  Consider pre-processing your data with StandardScaler or MinMaxScaler.\n",
      "  % self.max_iter, ConvergenceWarning)\n",
      "/Users/davidbethge/anaconda3/envs/tfnn/lib/python3.6/site-packages/sklearn/svm/_base.py:231: ConvergenceWarning: Solver terminated early (max_iter=100000).  Consider pre-processing your data with StandardScaler or MinMaxScaler.\n",
      "  % self.max_iter, ConvergenceWarning)\n",
      "/Users/davidbethge/anaconda3/envs/tfnn/lib/python3.6/site-packages/sklearn/svm/_base.py:231: ConvergenceWarning: Solver terminated early (max_iter=100000).  Consider pre-processing your data with StandardScaler or MinMaxScaler.\n",
      "  % self.max_iter, ConvergenceWarning)\n",
      "/Users/davidbethge/anaconda3/envs/tfnn/lib/python3.6/site-packages/sklearn/svm/_base.py:231: ConvergenceWarning: Solver terminated early (max_iter=100000).  Consider pre-processing your data with StandardScaler or MinMaxScaler.\n",
      "  % self.max_iter, ConvergenceWarning)\n",
      "/Users/davidbethge/anaconda3/envs/tfnn/lib/python3.6/site-packages/sklearn/svm/_base.py:231: ConvergenceWarning: Solver terminated early (max_iter=100000).  Consider pre-processing your data with StandardScaler or MinMaxScaler.\n",
      "  % self.max_iter, ConvergenceWarning)\n",
      "/Users/davidbethge/anaconda3/envs/tfnn/lib/python3.6/site-packages/sklearn/svm/_base.py:231: ConvergenceWarning: Solver terminated early (max_iter=100000).  Consider pre-processing your data with StandardScaler or MinMaxScaler.\n",
      "  % self.max_iter, ConvergenceWarning)\n",
      "/Users/davidbethge/anaconda3/envs/tfnn/lib/python3.6/site-packages/sklearn/svm/_base.py:231: ConvergenceWarning: Solver terminated early (max_iter=100000).  Consider pre-processing your data with StandardScaler or MinMaxScaler.\n",
      "  % self.max_iter, ConvergenceWarning)\n",
      "/Users/davidbethge/anaconda3/envs/tfnn/lib/python3.6/site-packages/sklearn/svm/_base.py:231: ConvergenceWarning: Solver terminated early (max_iter=100000).  Consider pre-processing your data with StandardScaler or MinMaxScaler.\n",
      "  % self.max_iter, ConvergenceWarning)\n",
      "/Users/davidbethge/anaconda3/envs/tfnn/lib/python3.6/site-packages/sklearn/svm/_base.py:231: ConvergenceWarning: Solver terminated early (max_iter=100000).  Consider pre-processing your data with StandardScaler or MinMaxScaler.\n",
      "  % self.max_iter, ConvergenceWarning)\n",
      "/Users/davidbethge/anaconda3/envs/tfnn/lib/python3.6/site-packages/sklearn/svm/_base.py:231: ConvergenceWarning: Solver terminated early (max_iter=100000).  Consider pre-processing your data with StandardScaler or MinMaxScaler.\n",
      "  % self.max_iter, ConvergenceWarning)\n",
      "/Users/davidbethge/anaconda3/envs/tfnn/lib/python3.6/site-packages/sklearn/svm/_base.py:231: ConvergenceWarning: Solver terminated early (max_iter=100000).  Consider pre-processing your data with StandardScaler or MinMaxScaler.\n",
      "  % self.max_iter, ConvergenceWarning)\n",
      "/Users/davidbethge/anaconda3/envs/tfnn/lib/python3.6/site-packages/sklearn/svm/_base.py:231: ConvergenceWarning: Solver terminated early (max_iter=100000).  Consider pre-processing your data with StandardScaler or MinMaxScaler.\n",
      "  % self.max_iter, ConvergenceWarning)\n",
      "/Users/davidbethge/anaconda3/envs/tfnn/lib/python3.6/site-packages/sklearn/svm/_base.py:231: ConvergenceWarning: Solver terminated early (max_iter=100000).  Consider pre-processing your data with StandardScaler or MinMaxScaler.\n",
      "  % self.max_iter, ConvergenceWarning)\n",
      "/Users/davidbethge/anaconda3/envs/tfnn/lib/python3.6/site-packages/sklearn/svm/_base.py:231: ConvergenceWarning: Solver terminated early (max_iter=100000).  Consider pre-processing your data with StandardScaler or MinMaxScaler.\n",
      "  % self.max_iter, ConvergenceWarning)\n",
      "/Users/davidbethge/anaconda3/envs/tfnn/lib/python3.6/site-packages/sklearn/svm/_base.py:231: ConvergenceWarning: Solver terminated early (max_iter=100000).  Consider pre-processing your data with StandardScaler or MinMaxScaler.\n",
      "  % self.max_iter, ConvergenceWarning)\n",
      "/Users/davidbethge/anaconda3/envs/tfnn/lib/python3.6/site-packages/sklearn/svm/_base.py:231: ConvergenceWarning: Solver terminated early (max_iter=100000).  Consider pre-processing your data with StandardScaler or MinMaxScaler.\n",
      "  % self.max_iter, ConvergenceWarning)\n",
      "/Users/davidbethge/anaconda3/envs/tfnn/lib/python3.6/site-packages/sklearn/svm/_base.py:231: ConvergenceWarning: Solver terminated early (max_iter=100000).  Consider pre-processing your data with StandardScaler or MinMaxScaler.\n",
      "  % self.max_iter, ConvergenceWarning)\n"
     ]
    },
    {
     "data": {
      "text/plain": [
       "<Figure size 432x288 with 0 Axes>"
      ]
     },
     "metadata": {},
     "output_type": "display_data"
    },
    {
     "data": {
      "image/png": "[encoded data removed]",
      "text/plain": [
       "<Figure size 720x504 with 2 Axes>"
      ]
     },
     "metadata": {
      "needs_background": "light"
     },
     "output_type": "display_data"
    }
   ],
   "source": [
    "\n",
    "\n",
    "parameters = {'kernel':('linear', 'rbf'), 'C':[1, 5, 10, 50, 100]}\n",
    "\n",
    "clf_svm = svm.SVC(gamma = 'scale', max_iter = 100000)\n",
    "\n",
    "clf = GridSearchCV(clf_svm, parameters, cv = 10)\n",
    "clf.fit(X_train, Y_train)\n",
    "best_clf = svm.SVC(**clf.best_params_)\n",
    "\n",
    "\n",
    "\n",
    "best_clf.fit(X_holdout, Y_holdout)\n",
    "Y_pred = best_clf.predict(X_holdout)\n",
    "\n",
    "\n",
    "cm = confusion_matrix(Y_holdout, Y_pred)\n",
    "\n",
    "fig_cm = print_confusion_matrix(confusion_matrix = cm,\n",
    "                       class_names = np.unique(Y).astype('str') ,\n",
    "                       figsize = (10,7), fontsize=14)\n",
    "\n",
    "#plt.show()\n",
    "\n",
    "acc = metrics.accuracy_score(Y_holdout, Y_pred)\n",
    "\n",
    "nep_ex.send_metric('accuracy_SVM_holdout', acc) \n",
    "nep_ex.send_image('cm_SVM', fig_cm)\n",
    "nep_ex.send_text('clf.best_params_', str( clf.best_params_ ))"
   ]
  },
  {
   "cell_type": "code",
   "execution_count": 17,
   "metadata": {},
   "outputs": [
    {
     "name": "stdout",
     "output_type": "stream",
     "text": [
      "accuracy holdout 0.6111111111111112\n"
     ]
    },
    {
     "data": {
      "text/plain": [
       "array([[0.78571429, 0.03225806, 0.13043478, 0.07692308],\n",
       "       [0.17857143, 0.58064516, 0.        , 0.30769231],\n",
       "       [0.07142857, 0.06451613, 0.34782609, 0.42307692],\n",
       "       [0.21428571, 0.03225806, 0.04347826, 0.69230769]])"
      ]
     },
     "execution_count": 17,
     "metadata": {},
     "output_type": "execute_result"
    }
   ],
   "source": [
    "\n",
    "print(f'accuracy holdout {acc}')\n",
    "cm / cm.astype(np.float).sum(axis=1)"
   ]
  },
  {
   "cell_type": "code",
   "execution_count": 18,
   "metadata": {},
   "outputs": [],
   "source": [
    "#kfold cross-validation\n",
    "\n",
    "from sklearn.model_selection import KFold\n",
    "\n",
    "\n",
    "kf = KFold(n_splits=10)\n",
    "\n",
    "split = 0\n",
    "for train_index, test_index in kf.split(X_train):\n",
    "    #print(\"TRAIN:\", train_index, \"TEST:\", test_index)\n",
    "    X_train2, X_test, Y_train2, Y_test = X_train[train_index], X_train[test_index], Y_train[train_index], Y_train[test_index]\n",
    "    best_clf.fit(X_train2, Y_train2)\n",
    "    \n",
    "    \n",
    "    Y_pred2 = best_clf.predict(X_test)\n",
    "    acc = metrics.accuracy_score(Y_test, Y_pred2)\n",
    "    clf_rep = metrics.classification_report(Y_test, Y_pred2, labels= [0,1,2,3],  output_dict = True)\n",
    "    nep_ex.send_metric('accuracy_SVM_innerkfold', acc) \n",
    "    nep_ex.send_text('clfreport_SVM_innerkfold', str(clf_rep))\n",
    "    split+= 1"
   ]
  },
  {
   "cell_type": "code",
   "execution_count": 19,
   "metadata": {},
   "outputs": [
    {
     "data": {
      "text/plain": [
       "{'0': {'precision': 0.5294117647058824,\n",
       "  'recall': 0.6923076923076923,\n",
       "  'f1-score': 0.5999999999999999,\n",
       "  'support': 26},\n",
       " '1': {'precision': 0.3,\n",
       "  'recall': 0.2727272727272727,\n",
       "  'f1-score': 0.28571428571428564,\n",
       "  'support': 22},\n",
       " '2': {'precision': 0.3125,\n",
       "  'recall': 0.20833333333333334,\n",
       "  'f1-score': 0.25,\n",
       "  'support': 24},\n",
       " '3': {'precision': 0.4074074074074074,\n",
       "  'recall': 0.44,\n",
       "  'f1-score': 0.4230769230769231,\n",
       "  'support': 25},\n",
       " 'accuracy': 0.41237113402061853,\n",
       " 'macro avg': {'precision': 0.38732979302832243,\n",
       "  'recall': 0.40334207459207455,\n",
       "  'f1-score': 0.38969780219780215,\n",
       "  'support': 97},\n",
       " 'weighted avg': {'precision': 0.39226691822204257,\n",
       "  'recall': 0.41237113402061853,\n",
       "  'f1-score': 0.39652203466636443,\n",
       "  'support': 97}}"
      ]
     },
     "execution_count": 19,
     "metadata": {},
     "output_type": "execute_result"
    }
   ],
   "source": [
    "clf_rep = metrics.classification_report(Y_test, Y_pred2, labels= [0,1,2,3], output_dict = True)\n",
    "clf_rep"
   ]
  },
  {
   "cell_type": "code",
   "execution_count": 20,
   "metadata": {},
   "outputs": [
    {
     "data": {
      "text/plain": [
       "GridSearchCV(cv=10, error_score=nan,\n",
       "             estimator=RandomForestRegressor(bootstrap=True, ccp_alpha=0.0,\n",
       "                                             criterion='mse', max_depth=None,\n",
       "                                             max_features='auto',\n",
       "                                             max_leaf_nodes=None,\n",
       "                                             max_samples=None,\n",
       "                                             min_impurity_decrease=0.0,\n",
       "                                             min_impurity_split=None,\n",
       "                                             min_samples_leaf=1,\n",
       "                                             min_samples_split=2,\n",
       "                                             min_weight_fraction_leaf=0.0,\n",
       "                                             n_estimators=100, n_jobs=None,\n",
       "                                             oob_score=False, random_state=0,\n",
       "                                             verbose=0, warm_start=False),\n",
       "             iid='deprecated', n_jobs=None,\n",
       "             param_grid={'max_depth': [2, 5, 10, 20, 50],\n",
       "                         'n_estimators': [5, 10, 20, 100, 500]},\n",
       "             pre_dispatch='2*n_jobs', refit=True, return_train_score=False,\n",
       "             scoring=None, verbose=0)"
      ]
     },
     "execution_count": 20,
     "metadata": {},
     "output_type": "execute_result"
    }
   ],
   "source": [
    "##. Random Forest\n",
    "from sklearn.ensemble import RandomForestRegressor\n",
    "\n",
    "parameters = {'n_estimators':[5,10, 20, 100, 500], 'max_depth': [2,5,10,20,50]}\n",
    "\n",
    "clf_rf = RandomForestRegressor(random_state = 0)\n",
    "\n",
    "clf = GridSearchCV(clf_rf, parameters, cv = 10)\n",
    "clf.fit(X_train, Y_train)\n"
   ]
  },
  {
   "cell_type": "code",
   "execution_count": 21,
   "metadata": {},
   "outputs": [
    {
     "data": {
      "text/plain": [
       "{'max_depth': 50, 'n_estimators': 100}"
      ]
     },
     "execution_count": 21,
     "metadata": {},
     "output_type": "execute_result"
    }
   ],
   "source": [
    "clf.best_params_"
   ]
  },
  {
   "cell_type": "code",
   "execution_count": 22,
   "metadata": {},
   "outputs": [
    {
     "name": "stdout",
     "output_type": "stream",
     "text": [
      "accuracy on holdout 0.7870370370370371\n"
     ]
    },
    {
     "data": {
      "text/plain": [
       "{'0': {'precision': 1.0,\n",
       "  'recall': 0.7142857142857143,\n",
       "  'f1-score': 0.8333333333333333,\n",
       "  'support': 28},\n",
       " '1': {'precision': 0.7567567567567568,\n",
       "  'recall': 0.9032258064516129,\n",
       "  'f1-score': 0.823529411764706,\n",
       "  'support': 31},\n",
       " '2': {'precision': 0.6111111111111112,\n",
       "  'recall': 0.9565217391304348,\n",
       "  'f1-score': 0.7457627118644068,\n",
       "  'support': 23},\n",
       " '3': {'precision': 1.0,\n",
       "  'recall': 0.5769230769230769,\n",
       "  'f1-score': 0.7317073170731707,\n",
       "  'support': 26},\n",
       " 'accuracy': 0.7870370370370371,\n",
       " 'macro avg': {'precision': 0.8419669669669669,\n",
       "  'recall': 0.7877390841977097,\n",
       "  'f1-score': 0.7835831935089042,\n",
       "  'support': 108},\n",
       " 'weighted avg': {'precision': 0.847361250139028,\n",
       "  'recall': 0.7870370370370371,\n",
       "  'f1-score': 0.7874044232853982,\n",
       "  'support': 108}}"
      ]
     },
     "execution_count": 22,
     "metadata": {},
     "output_type": "execute_result"
    }
   ],
   "source": [
    "best_clf = RandomForestRegressor(**clf.best_params_, random_state = 0)\n",
    "\n",
    "\n",
    "\n",
    "best_clf.fit(X_holdout, Y_holdout)\n",
    "Y_pred = best_clf.predict(X_holdout)\n",
    "acc_rf_holdout = metrics.accuracy_score(Y_holdout, Y_pred.round(0))\n",
    "print(f'accuracy on holdout {acc_rf_holdout}')\n",
    "clf_rep_rf = metrics.classification_report(Y_holdout, Y_pred.round(0), labels= [0,1,2,3],  output_dict = True)\n",
    "clf_rep_rf"
   ]
  },
  {
   "cell_type": "code",
   "execution_count": 23,
   "metadata": {},
   "outputs": [
    {
     "data": {
      "text/plain": [
       "Text(0.5, 0, 'relative importance')"
      ]
     },
     "execution_count": 23,
     "metadata": {},
     "output_type": "execute_result"
    },
    {
     "data": {
      "image/png": "[encoded data removed]",
      "text/plain": [
       "<Figure size 360x432 with 1 Axes>"
      ]
     },
     "metadata": {},
     "output_type": "display_data"
    }
   ],
   "source": [
    "f_impo = best_clf.feature_importances_\n",
    "col_names = ['pupil_diam_x_mean', 'pupil_diam_y_mean', 'pupil_diam_x_sd', 'pupil_diam_y_sd', 'pupil_diam_x_psd0.2Hz',\n",
    "               'pupil_diam_y_psd0.2Hz', 'pupil_diam_x_psd0.4Hz', 'pupil_diam_y_psd0.4Hz', 'pupil_diam_x_psd0.6Hz', \n",
    "               'pupil_diam_y_psd0.6Hz', 'pupil_diam_x_psd1Hz', 'pupil_diam_y_psd1Hz',\n",
    "\t\t\t\t'dispersion_x_mean', 'dispersion_y_mean', 'dispersion_x_sd', 'dispersion_y_sd',\n",
    "\t\t\t\t'fixation_mean', 'fixation_sd',\n",
    "\t\t\t\t'saccation_duration_mean', 'saccation_duration_sd', 'saccation_amplidtude_mean', 'sacc_amplidtude_sd',\n",
    "\t\t\t\t'blink frequency', 'fixation frequency', 'fixation duration maximum', \n",
    "               'fixation_dispersion_total', 'fixation_dispersion_maximum', \n",
    "               'saccade_frequency', 'saccade_duration_average', \n",
    "               'saccade_amplitude_average', 'saccade_latency_average']\n",
    "df_feature_im = pd.DataFrame({'importance_value':f_impo, 'feature':col_names})\n",
    "\n",
    "sns.set(rc={'figure.figsize':(5,6)})\n",
    "fig = sns.barplot(x = 'importance_value', y = 'feature', \n",
    "                  data =df_feature_im.sort_values(by = 'importance_value', ascending = False), \n",
    "                linewidth=2.5, facecolor=(1, 1, 1, 0), edgecolor=\".2\")\n",
    "\n",
    "fig.set_title('Feature importances for emotion recognition', size = 15)\n",
    "fig.set_xlabel('relative importance')"
   ]
  },
  {
   "cell_type": "markdown",
   "metadata": {},
   "source": [
    "## Cross Participant accuracy"
   ]
  },
  {
   "cell_type": "code",
   "execution_count": 24,
   "metadata": {},
   "outputs": [
    {
     "name": "stdout",
     "output_type": "stream",
     "text": [
      "group/participant in Train: [ 2  3  4  5  6  7  8  9 10 11 12 13 14 15] and Test: [1]\n",
      "group/participant in Train: [ 1  3  4  5  6  7  8  9 10 11 12 13 14 15] and Test: [2]\n",
      "group/participant in Train: [ 1  2  4  5  6  7  8  9 10 11 12 13 14 15] and Test: [3]\n",
      "group/participant in Train: [ 1  2  3  5  6  7  8  9 10 11 12 13 14 15] and Test: [4]\n",
      "group/participant in Train: [ 1  2  3  4  6  7  8  9 10 11 12 13 14 15] and Test: [5]\n",
      "group/participant in Train: [ 1  2  3  4  5  7  8  9 10 11 12 13 14 15] and Test: [6]\n",
      "group/participant in Train: [ 1  2  3  4  5  6  8  9 10 11 12 13 14 15] and Test: [7]\n",
      "group/participant in Train: [ 1  2  3  4  5  6  7  9 10 11 12 13 14 15] and Test: [8]\n",
      "group/participant in Train: [ 1  2  3  4  5  6  7  8 10 11 12 13 14 15] and Test: [9]\n",
      "group/participant in Train: [ 1  2  3  4  5  6  7  8  9 11 12 13 14 15] and Test: [10]\n",
      "group/participant in Train: [ 1  2  3  4  5  6  7  8  9 10 12 13 14 15] and Test: [11]\n",
      "group/participant in Train: [ 1  2  3  4  5  6  7  8  9 10 11 13 14 15] and Test: [12]\n",
      "group/participant in Train: [ 1  2  3  4  5  6  7  8  9 10 11 12 14 15] and Test: [13]\n",
      "group/participant in Train: [ 1  2  3  4  5  6  7  8  9 10 11 12 13 15] and Test: [14]\n",
      "group/participant in Train: [ 1  2  3  4  5  6  7  8  9 10 11 12 13 14] and Test: [15]\n"
     ]
    },
    {
     "data": {
      "text/plain": [
       "Text(0.5, 1.0, '\"leave-one-participant-out\"-accuracy')"
      ]
     },
     "execution_count": 24,
     "metadata": {},
     "output_type": "execute_result"
    },
    {
     "data": {
      "text/plain": [
       "<Figure size 360x432 with 0 Axes>"
      ]
     },
     "metadata": {},
     "output_type": "display_data"
    },
    {
     "data": {
      "text/plain": [
       "<Figure size 720x504 with 0 Axes>"
      ]
     },
     "metadata": {},
     "output_type": "display_data"
    },
    {
     "data": {
      "text/plain": [
       "<Figure size 720x504 with 0 Axes>"
      ]
     },
     "metadata": {},
     "output_type": "display_data"
    },
    {
     "data": {
      "text/plain": [
       "<Figure size 720x504 with 0 Axes>"
      ]
     },
     "metadata": {},
     "output_type": "display_data"
    },
    {
     "data": {
      "text/plain": [
       "<Figure size 720x504 with 0 Axes>"
      ]
     },
     "metadata": {},
     "output_type": "display_data"
    },
    {
     "data": {
      "text/plain": [
       "<Figure size 720x504 with 0 Axes>"
      ]
     },
     "metadata": {},
     "output_type": "display_data"
    },
    {
     "data": {
      "text/plain": [
       "<Figure size 720x504 with 0 Axes>"
      ]
     },
     "metadata": {},
     "output_type": "display_data"
    },
    {
     "data": {
      "text/plain": [
       "<Figure size 720x504 with 0 Axes>"
      ]
     },
     "metadata": {},
     "output_type": "display_data"
    },
    {
     "data": {
      "text/plain": [
       "<Figure size 720x504 with 0 Axes>"
      ]
     },
     "metadata": {},
     "output_type": "display_data"
    },
    {
     "data": {
      "text/plain": [
       "<Figure size 720x504 with 0 Axes>"
      ]
     },
     "metadata": {},
     "output_type": "display_data"
    },
    {
     "data": {
      "text/plain": [
       "<Figure size 720x504 with 0 Axes>"
      ]
     },
     "metadata": {},
     "output_type": "display_data"
    },
    {
     "data": {
      "text/plain": [
       "<Figure size 720x504 with 0 Axes>"
      ]
     },
     "metadata": {},
     "output_type": "display_data"
    },
    {
     "data": {
      "text/plain": [
       "<Figure size 720x504 with 0 Axes>"
      ]
     },
     "metadata": {},
     "output_type": "display_data"
    },
    {
     "data": {
      "text/plain": [
       "<Figure size 720x504 with 0 Axes>"
      ]
     },
     "metadata": {},
     "output_type": "display_data"
    },
    {
     "data": {
      "text/plain": [
       "<Figure size 720x504 with 0 Axes>"
      ]
     },
     "metadata": {},
     "output_type": "display_data"
    },
    {
     "data": {
      "image/png": "[encoded data removed]",
      "text/plain": [
       "<Figure size 720x504 with 1 Axes>"
      ]
     },
     "metadata": {},
     "output_type": "display_data"
    }
   ],
   "source": [
    "from sklearn.model_selection import LeavePGroupsOut\n",
    "lpgo = LeavePGroupsOut(n_groups=1)\n",
    "lpgo.get_n_splits(X_flatten_mean, Y, P)\n",
    "\n",
    "metric_data = dict()\n",
    "for train_index, test_index in lpgo.split(X_flatten_mean, Y, P):\n",
    "    #print(\"TRAIN:\", train_index, \"TEST:\", test_index)\n",
    "    #X_train, X_test = X_flatten[train_index], X_flatten[test_index]\n",
    "    #y_train, y_test = y[train_index], y[test_index]\n",
    "    print('group/participant in Train: {0} and Test: {1}'.format(np.unique(P[train_index]), np.unique(P[test_index])))\n",
    "    X_train, X_test = X_flatten_mean[train_index], X_flatten_mean[test_index]\n",
    "    Y_train, Y_test = Y[train_index], Y[test_index]\n",
    "    \n",
    "    participant_holdout = int( np.unique(P[test_index])[:])\n",
    "    \n",
    "    best_clf = RandomForestRegressor(**clf.best_params_, random_state = 0)\n",
    "    best_clf.fit(X_train, Y_train)\n",
    "    Y_pred = best_clf.predict(X_test)\n",
    "    \n",
    "    \n",
    "    #plot confusion matrix per participant\n",
    "    cm = confusion_matrix(Y_test, Y_pred.round(0))\n",
    "\n",
    "    fig_cm = print_confusion_matrix(confusion_matrix = cm,\n",
    "                           class_names = np.unique(Y).astype('str') ,\n",
    "                           figsize = (10,7), fontsize=14)\n",
    "    #plt.title('participant: {0}'.format(participant_holdout))\n",
    "    #plt.show()\n",
    "    \n",
    "    #calculate accuracy\n",
    "    acc = np.diag(cm).sum() / Y_test.shape[0]\n",
    "    metric_data[participant_holdout] = dict()\n",
    "    metric_data[participant_holdout]['acc'] = acc\n",
    "\n",
    "    \n",
    "df_transfer_participant_metrics = pd.DataFrame(metric_data).T\n",
    "df_transfer_participant_metrics.head()\n",
    "\n",
    "plt.clf()\n",
    "ax = sns.barplot(y = df_transfer_participant_metrics.acc, x= df_transfer_participant_metrics.index)\n",
    "ax.set_title('\"leave-one-participant-out\"-accuracy')"
   ]
  },
  {
   "cell_type": "markdown",
   "metadata": {},
   "source": [
    "### Transfer session ability\n",
    "\n",
    "#### How big is the prediction-loss of a classifer trained on every but one session of the participant\n",
    "\n",
    "\n",
    "Method:\n",
    "\n",
    "train one classifier for each participant on the data: leave one session in training out and validate on the remaining session (participant stays the same)\n",
    "\n",
    "Question:\n",
    "\n",
    "\n",
    "\n",
    "Result:\n"
   ]
  },
  {
   "cell_type": "code",
   "execution_count": 25,
   "metadata": {},
   "outputs": [
    {
     "name": "stdout",
     "output_type": "stream",
     "text": [
      "group/participant in Train: [ 2  3  4  5  6  7  8  9 10 11 12 13 14 15] and Test: [1]\n",
      "holdout sess ['1' '2' '3'], train_sess ['1' '2' '3']\n",
      "sess in Train: ['2' '3'] and Test: ['1']\n",
      "sess in Train: ['1' '3'] and Test: ['2']\n",
      "sess in Train: ['1' '2'] and Test: ['3']\n",
      "group/participant in Train: [ 1  3  4  5  6  7  8  9 10 11 12 13 14 15] and Test: [2]\n",
      "holdout sess ['1' '2' '3'], train_sess ['1' '2' '3']\n",
      "sess in Train: ['2' '3'] and Test: ['1']\n",
      "sess in Train: ['1' '3'] and Test: ['2']\n",
      "sess in Train: ['1' '2'] and Test: ['3']\n",
      "group/participant in Train: [ 1  2  4  5  6  7  8  9 10 11 12 13 14 15] and Test: [3]\n",
      "holdout sess ['1' '2' '3'], train_sess ['1' '2' '3']\n",
      "sess in Train: ['2' '3'] and Test: ['1']\n",
      "sess in Train: ['1' '3'] and Test: ['2']\n",
      "sess in Train: ['1' '2'] and Test: ['3']\n",
      "group/participant in Train: [ 1  2  3  5  6  7  8  9 10 11 12 13 14 15] and Test: [4]\n",
      "holdout sess ['1' '2' '3'], train_sess ['1' '2' '3']\n",
      "sess in Train: ['2' '3'] and Test: ['1']\n",
      "sess in Train: ['1' '3'] and Test: ['2']\n",
      "sess in Train: ['1' '2'] and Test: ['3']\n",
      "group/participant in Train: [ 1  2  3  4  6  7  8  9 10 11 12 13 14 15] and Test: [5]\n",
      "holdout sess ['1' '2' '3'], train_sess ['1' '2' '3']\n",
      "sess in Train: ['2' '3'] and Test: ['1']\n",
      "sess in Train: ['1' '3'] and Test: ['2']\n",
      "sess in Train: ['1' '2'] and Test: ['3']\n",
      "group/participant in Train: [ 1  2  3  4  5  7  8  9 10 11 12 13 14 15] and Test: [6]\n",
      "holdout sess ['1' '2' '3'], train_sess ['1' '2' '3']\n",
      "sess in Train: ['2' '3'] and Test: ['1']\n",
      "sess in Train: ['1' '3'] and Test: ['2']\n",
      "sess in Train: ['1' '2'] and Test: ['3']\n",
      "group/participant in Train: [ 1  2  3  4  5  6  8  9 10 11 12 13 14 15] and Test: [7]\n",
      "holdout sess ['1' '2' '3'], train_sess ['1' '2' '3']\n",
      "sess in Train: ['2' '3'] and Test: ['1']\n",
      "sess in Train: ['1' '3'] and Test: ['2']\n",
      "sess in Train: ['1' '2'] and Test: ['3']\n",
      "group/participant in Train: [ 1  2  3  4  5  6  7  9 10 11 12 13 14 15] and Test: [8]\n",
      "holdout sess ['1' '2' '3'], train_sess ['1' '2' '3']\n",
      "sess in Train: ['2' '3'] and Test: ['1']\n",
      "sess in Train: ['1' '3'] and Test: ['2']\n",
      "sess in Train: ['1' '2'] and Test: ['3']\n",
      "group/participant in Train: [ 1  2  3  4  5  6  7  8 10 11 12 13 14 15] and Test: [9]\n",
      "holdout sess ['1' '2' '3'], train_sess ['1' '2' '3']\n",
      "sess in Train: ['2' '3'] and Test: ['1']\n",
      "sess in Train: ['1' '3'] and Test: ['2']\n",
      "sess in Train: ['1' '2'] and Test: ['3']\n",
      "group/participant in Train: [ 1  2  3  4  5  6  7  8  9 11 12 13 14 15] and Test: [10]\n",
      "holdout sess ['1' '2' '3'], train_sess ['1' '2' '3']\n",
      "sess in Train: ['2' '3'] and Test: ['1']\n",
      "sess in Train: ['1' '3'] and Test: ['2']\n",
      "sess in Train: ['1' '2'] and Test: ['3']\n",
      "group/participant in Train: [ 1  2  3  4  5  6  7  8  9 10 12 13 14 15] and Test: [11]\n",
      "holdout sess ['1' '2' '3'], train_sess ['1' '2' '3']\n",
      "sess in Train: ['2' '3'] and Test: ['1']\n",
      "sess in Train: ['1' '3'] and Test: ['2']\n",
      "sess in Train: ['1' '2'] and Test: ['3']\n",
      "group/participant in Train: [ 1  2  3  4  5  6  7  8  9 10 11 13 14 15] and Test: [12]\n",
      "holdout sess ['1' '2' '3'], train_sess ['1' '2' '3']\n",
      "sess in Train: ['2' '3'] and Test: ['1']\n",
      "sess in Train: ['1' '3'] and Test: ['2']\n",
      "sess in Train: ['1' '2'] and Test: ['3']\n",
      "group/participant in Train: [ 1  2  3  4  5  6  7  8  9 10 11 12 14 15] and Test: [13]\n",
      "holdout sess ['1' '2' '3'], train_sess ['1' '2' '3']\n",
      "sess in Train: ['2' '3'] and Test: ['1']\n",
      "sess in Train: ['1' '3'] and Test: ['2']\n",
      "sess in Train: ['1' '2'] and Test: ['3']\n",
      "group/participant in Train: [ 1  2  3  4  5  6  7  8  9 10 11 12 13 15] and Test: [14]\n",
      "holdout sess ['1' '2' '3'], train_sess ['1' '2' '3']\n",
      "sess in Train: ['2' '3'] and Test: ['1']\n",
      "sess in Train: ['1' '3'] and Test: ['2']\n",
      "sess in Train: ['1' '2'] and Test: ['3']\n",
      "group/participant in Train: [ 1  2  3  4  5  6  7  8  9 10 11 12 13 14] and Test: [15]\n",
      "holdout sess ['1' '2' '3'], train_sess ['1' '2' '3']\n",
      "sess in Train: ['2' '3'] and Test: ['1']\n",
      "sess in Train: ['1' '3'] and Test: ['2']\n",
      "sess in Train: ['1' '2'] and Test: ['3']\n"
     ]
    },
    {
     "data": {
      "text/plain": [
       "Text(0, 0.5, 'prediction accuracy')"
      ]
     },
     "execution_count": 25,
     "metadata": {},
     "output_type": "execute_result"
    },
    {
     "data": {
      "image/png": "[encoded data removed]",
      "text/plain": [
       "<Figure size 360x432 with 1 Axes>"
      ]
     },
     "metadata": {},
     "output_type": "display_data"
    }
   ],
   "source": [
    "from sklearn.model_selection import LeavePGroupsOut\n",
    "lpgo = LeavePGroupsOut(n_groups=1)\n",
    "lpgo2 = LeavePGroupsOut(n_groups=1)\n",
    "lpgo.get_n_splits(X_flatten_mean, Y, S)\n",
    "\n",
    "metric_data = dict()\n",
    "for train_index, test_index in lpgo.split(X_flatten_mean, Y, P):\n",
    "    #print(\"TRAIN:\", train_index, \"TEST:\", test_index)\n",
    "    #X_train, X_test = X_flatten[train_index], X_flatten[test_index]\n",
    "    #y_train, y_test = y[train_index], y[test_index]\n",
    "    print('group/participant in Train: {0} and Test: {1}'.format(np.unique(P[train_index]), np.unique(P[test_index])))\n",
    "    X_train, X_test = X_flatten_mean[train_index], X_flatten_mean[test_index]\n",
    "    Y_train, Y_test = Y[train_index], Y[test_index]\n",
    "    S_train, S_test = S[train_index], S[test_index]\n",
    "    participant_holdout = int( np.unique(P[test_index])[:])\n",
    "    \n",
    "    print(f'holdout sess {np.unique(S_train)}, train_sess {np.unique(S_test)}')\n",
    "    metric_data[participant_holdout] = dict()\n",
    "    #now divide per session:\n",
    "    for train_sess_index, test_sess_index in lpgo2.split(X_test, Y_test, S_test):\n",
    "        print('sess in Train: {0} and Test: {1}'.format( np.unique( S_test[train_sess_index] ),\n",
    "                                                        np.unique( S_test[test_sess_index])) )\n",
    "        holdout_sess = np.unique( S_test[test_sess_index])\n",
    "        X_train_sess, X_test_sess = X_test[train_sess_index], X_test[test_sess_index]\n",
    "        Y_train_sess, Y_test_sess = Y_test[train_sess_index], Y_test[test_sess_index]\n",
    "        S_train_sess, S_test_sess = S_test[train_sess_index], S_test[test_sess_index]\n",
    "        \n",
    "        \n",
    "        best_clf = RandomForestRegressor(**clf.best_params_, random_state = 0)\n",
    "        best_clf.fit(X_train_sess, Y_train_sess)\n",
    "        Y_pred_sess = best_clf.predict(X_test_sess)\n",
    "\n",
    "\n",
    "        #plot confusion matrix per participant\n",
    "        cm = confusion_matrix(Y_test_sess, Y_pred_sess.round(0))\n",
    "\n",
    "\n",
    "        #calculate accuracy\n",
    "        acc_ = np.diag(cm).sum() / Y_test_sess.shape[0]\n",
    "        #acc.append(acc_)\n",
    "        \n",
    "    \n",
    "        metric_data[participant_holdout]['holdout_sess_'+holdout_sess[0]] = acc_\n",
    "\n",
    "        \n",
    "df_transfer_participant_session_metrics = pd.DataFrame(metric_data).T\n",
    "df_transfer_participant_session_metrics.head()\n",
    "\n",
    "\n",
    "#long to wide format\n",
    "df_transfer_participant_session_metrics= df_transfer_participant_session_metrics.unstack().reset_index()\n",
    "df_transfer_participant_session_metrics.columns = ['holdout_sess', 'participant', 'acc']\n",
    "df_transfer_participant_session_metrics.head()\n",
    "\n",
    "\n",
    "#plotting\n",
    "ax = sns.boxplot(x = 'participant', y= 'acc', data = df_transfer_participant_session_metrics)\n",
    "ax.set_title('session-based-\"leave-one-participant-out\"-accuracy')\n",
    "ax.set_ylabel('prediction accuracy')"
   ]
  },
  {
   "cell_type": "markdown",
   "metadata": {},
   "source": [
    "## AUTOML "
   ]
  },
  {
   "cell_type": "code",
   "execution_count": 26,
   "metadata": {},
   "outputs": [
    {
     "ename": "ModuleNotFoundError",
     "evalue": "No module named 'auto_ml'",
     "output_type": "error",
     "traceback": [
      "\u001b[0;31m---------------------------------------------------------------------------\u001b[0m",
      "\u001b[0;31mModuleNotFoundError\u001b[0m                       Traceback (most recent call last)",
      "\u001b[0;32m<ipython-input-26-d878a92275c5>\u001b[0m in \u001b[0;36m<module>\u001b[0;34m\u001b[0m\n\u001b[1;32m      1\u001b[0m \u001b[0;31m#AUTOML\u001b[0m\u001b[0;34m\u001b[0m\u001b[0;34m\u001b[0m\u001b[0;34m\u001b[0m\u001b[0m\n\u001b[0;32m----> 2\u001b[0;31m \u001b[0;32mfrom\u001b[0m \u001b[0mauto_ml\u001b[0m \u001b[0;32mimport\u001b[0m \u001b[0mPredictor\u001b[0m\u001b[0;34m\u001b[0m\u001b[0;34m\u001b[0m\u001b[0m\n\u001b[0m\u001b[1;32m      3\u001b[0m \u001b[0;32mfrom\u001b[0m \u001b[0mauto_ml\u001b[0m\u001b[0;34m.\u001b[0m\u001b[0mutils_models\u001b[0m \u001b[0;32mimport\u001b[0m \u001b[0mload_ml_model\u001b[0m\u001b[0;34m\u001b[0m\u001b[0;34m\u001b[0m\u001b[0m\n\u001b[1;32m      4\u001b[0m \u001b[0;34m\u001b[0m\u001b[0m\n\u001b[1;32m      5\u001b[0m \u001b[0;31m# Load data\u001b[0m\u001b[0;34m\u001b[0m\u001b[0;34m\u001b[0m\u001b[0;34m\u001b[0m\u001b[0m\n",
      "\u001b[0;31mModuleNotFoundError\u001b[0m: No module named 'auto_ml'"
     ]
    }
   ],
   "source": [
    "#AUTOML\n",
    "from auto_ml import Predictor\n",
    "from auto_ml.utils_models import load_ml_model\n",
    "\n",
    "# Load data\n",
    "#df_train, df_test = pd.DataFrame(X_train),\n",
    "df_train = pd.DataFrame(X_train)\n",
    "df_train['emotion'] = Y_train\n",
    "df_train.columns = df_train.columns.values.astype('str')\n",
    "\n",
    "df_test = pd.DataFrame(X_test)\n",
    "df_test['emotion'] = Y_test\n",
    "df_test.columns = df_test.columns.values.astype('str')\n",
    "\n",
    "\n",
    "# Tell auto_ml which column is 'output'\n",
    "# Also note columns that aren't purely numerical\n",
    "# Examples include ['nlp', 'date', 'categorical', 'ignore']\n",
    "column_descriptions = dict()\n",
    "for name in df_train.columns:\n",
    "    if name != 'emotion':\n",
    "        print('..')\n",
    "        #column_descriptions[name] = \"categorical\"\n",
    "    else:\n",
    "        column_descriptions[name] = \"output\"\n",
    "\n",
    "\n",
    "ml_predictor = Predictor(type_of_estimator='classifier', \n",
    "                        column_descriptions=column_descriptions, \n",
    "                        )\n",
    "\n",
    "ml_predictor.train(df_train)\n",
    "\n",
    "# Score the model on test data\n",
    "test_score = ml_predictor.score(df_test, df_test.emotion)\n",
    "\n",
    "# auto_ml is specifically tuned for running in production\n",
    "# It can get predictions on an individual row (passed in as a dictionary)\n",
    "# A single prediction like this takes ~1 millisecond\n",
    "# Here we will demonstrate saving the trained model, and loading it again\n",
    "file_name = ml_predictor.save()\n",
    "\n",
    "trained_model = load_ml_model(file_name)\n",
    "\n",
    "# .predict and .predict_proba take in either:\n",
    "# A pandas DataFrame\n",
    "# A list of dictionaries\n",
    "# A single dictionary (optimized for speed in production evironments)\n",
    "predictions = trained_model.predict(df_test)\n",
    "print(predictions)\n",
    "\n"
   ]
  },
  {
   "cell_type": "code",
   "execution_count": null,
   "metadata": {},
   "outputs": [],
   "source": [
    "#plot confusion matrix with automl\n",
    "\n",
    " \n",
    "cm = confusion_matrix(Y_test, predictions)\n",
    "\n",
    "fig_cm = print_confusion_matrix(confusion_matrix = cm,\n",
    "                       class_names = np.unique(Y).astype('str') ,\n",
    "                       figsize = (10,7), fontsize=14)\n",
    "plt.title('XGB emotion classifier')"
   ]
  },
  {
   "cell_type": "markdown",
   "metadata": {},
   "source": [
    "## participant wise - evaluation (can we transfer from all other partipants to one unseen?)"
   ]
  },
  {
   "cell_type": "code",
   "execution_count": null,
   "metadata": {},
   "outputs": [],
   "source": [
    "#write own evaluation function -> leave one participant out\n",
    "from sklearn.model_selection import LeavePGroupsOut\n",
    "X = np.array([[1, 2], [3, 4], [5, 6]])\n",
    "y = np.array([1, 2, 1])\n",
    "groups = np.array([1, 2, 3])\n",
    "lpgo = LeavePGroupsOut(n_groups=1)\n",
    "lpgo.get_n_splits(X, y, groups)\n",
    "\n",
    "print(lpgo)\n",
    "\n",
    "for train_index, test_index in lpgo.split(X, y, groups):\n",
    "    print(\"TRAIN:\", train_index, \"TEST:\", test_index)\n",
    "    X_train, X_test = X[train_index], X[test_index]\n",
    "    y_train, y_test = y[train_index], y[test_index]\n",
    "    print(X_train, X_test, y_train, y_test)\n",
    "    \n",
    "    print('group_index: Train {0}, Test {1}'.format(groups[train_index], groups[test_index]))"
   ]
  },
  {
   "cell_type": "code",
   "execution_count": null,
   "metadata": {},
   "outputs": [],
   "source": [
    "lpgo = LeavePGroupsOut(n_groups=1)\n",
    "lpgo.get_n_splits(X_flatten, Y, P)\n",
    "\n",
    "metric_data = dict()\n",
    "for train_index, test_index in lpgo.split(X_flatten, Y, P):\n",
    "    #print(\"TRAIN:\", train_index, \"TEST:\", test_index)\n",
    "    #X_train, X_test = X_flatten[train_index], X_flatten[test_index]\n",
    "    #y_train, y_test = y[train_index], y[test_index]\n",
    "    print('group/participant in Train: {0} and Test: {1}'.format(np.unique(P[train_index]), np.unique(P[test_index])))\n",
    "    X_train, X_test = X_flatten[train_index], X_flatten[test_index]\n",
    "    Y_train, Y_test = Y[train_index], Y[test_index]\n",
    "    \n",
    "    participant_holdout = int( np.unique(P[test_index])[:])\n",
    "    \n",
    "    best_clf = DecisionTreeClassifier(**clf.best_params_)\n",
    "    best_clf.fit(X_train, Y_train)\n",
    "    Y_pred = best_clf.predict(X_test)\n",
    "    \n",
    "    \n",
    "    #plot confusion matrix per participant\n",
    "    cm = confusion_matrix(Y_test, Y_pred)\n",
    "\n",
    "    fig_cm = print_confusion_matrix(confusion_matrix = cm,\n",
    "                           class_names = np.unique(Y).astype('str') ,\n",
    "                           figsize = (10,7), fontsize=14)\n",
    "    #plt.title('participant: {0}'.format(participant_holdout))\n",
    "    plt.show()\n",
    "    \n",
    "    #calculate accuracy\n",
    "    acc = np.diag(cm).sum() / Y_test.shape[0]\n",
    "    metric_data[participant_holdout] = dict()\n",
    "    metric_data[participant_holdout]['acc'] = acc"
   ]
  },
  {
   "cell_type": "code",
   "execution_count": null,
   "metadata": {},
   "outputs": [],
   "source": [
    "for participant in metric_data.keys():\n",
    "    "
   ]
  },
  {
   "cell_type": "code",
   "execution_count": null,
   "metadata": {},
   "outputs": [],
   "source": [
    "df_transfer_participant_metrics = pd.DataFrame(metric_data).T\n",
    "df_transfer_participant_metrics.head()"
   ]
  },
  {
   "cell_type": "code",
   "execution_count": null,
   "metadata": {},
   "outputs": [],
   "source": [
    "#plot participants over accuracy\n",
    "import seaborn as sns\n",
    "\n",
    "ax = sns.barplot(y = df_transfer_participant_metrics.acc, x= df_transfer_participant_metrics.index)\n",
    "ax.set_title('leave one participant out accuracy')\n"
   ]
  }
 ],
 "metadata": {
  "kernelspec": {
   "display_name": "Python 3",
   "language": "python",
   "name": "python3"
  },
  "language_info": {
   "codemirror_mode": {
    "name": "ipython",
    "version": 3
   },
   "file_extension": ".py",
   "mimetype": "text/x-python",
   "name": "python",
   "nbconvert_exporter": "python",
   "pygments_lexer": "ipython3",
   "version": "3.6.10"
  },
  "neptune": {
   "notebookId": "56016de8-95ce-44a5-b349-8f71dad8f174"
  }
 },
 "nbformat": 4,
 "nbformat_minor": 2
}
